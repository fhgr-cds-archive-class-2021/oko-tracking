{
 "cells": [
  {
   "cell_type": "markdown",
   "id": "487dc65e",
   "metadata": {},
   "source": [
    "# Assignment 6 - Eye tracking data exploration"
   ]
  },
  {
   "cell_type": "code",
   "execution_count": 15,
   "id": "7eb51cdc",
   "metadata": {},
   "outputs": [],
   "source": [
    "# import the library\n",
    "import numpy as np\n",
    "import pandas as pd\n",
    "import urllib\n",
    "import matplotlib.pyplot as plt\n",
    "# import seaborn as sns\n",
    "pd.set_option(\"display.max_rows\", 200)"
   ]
  },
  {
   "cell_type": "code",
   "execution_count": 4,
   "id": "3379e5cb",
   "metadata": {},
   "outputs": [
    {
     "name": "stdout",
     "output_type": "stream",
     "text": [
      "Requirement already satisfied: openpyxl in /Users/shu/opt/anaconda3/lib/python3.9/site-packages (3.0.9)\r\n",
      "Requirement already satisfied: et-xmlfile in /Users/shu/opt/anaconda3/lib/python3.9/site-packages (from openpyxl) (1.1.0)\r\n"
     ]
    }
   ],
   "source": [
    "!pip install openpyxl\n"
   ]
  },
  {
   "cell_type": "markdown",
   "id": "858df26e",
   "metadata": {},
   "source": [
    "## Exercise 11 – Eye Tracking Data\n",
    "\n",
    "In our Google Drive folder you can find an eye tracking dataset recorded in a real eye tracking study. \n",
    "\n",
    "The study itself got explained in the lecture (Chapter 5). The focus was on public transport maps and the\n",
    "research question which type of maps is better: colored or grayscale ones? Explore the given dataset and\n",
    "describe the following points in detail:\n",
    "(a) How many participants took part in the study? (3 P.) - 40\n",
    "(b) How many stimuli have been shown in the study and what is their difference? (3 P) - 106, difference in the city (diffciculty) and the color (colored and greyscale)\n",
    "(c) How many fixations have been made in the study in total? (3 P.) \n",
    "(d) Which general differences can you detect in the individual scanpaths? (3 P.)"
   ]
  },
  {
   "cell_type": "code",
   "execution_count": 14,
   "id": "9b9419c5",
   "metadata": {},
   "outputs": [
    {
     "data": {
      "text/html": [
       "<div>\n",
       "<style scoped>\n",
       "    .dataframe tbody tr th:only-of-type {\n",
       "        vertical-align: middle;\n",
       "    }\n",
       "\n",
       "    .dataframe tbody tr th {\n",
       "        vertical-align: top;\n",
       "    }\n",
       "\n",
       "    .dataframe thead th {\n",
       "        text-align: right;\n",
       "    }\n",
       "</style>\n",
       "<table border=\"1\" class=\"dataframe\">\n",
       "  <thead>\n",
       "    <tr style=\"text-align: right;\">\n",
       "      <th></th>\n",
       "      <th>Timestamp</th>\n",
       "      <th>StimuliName</th>\n",
       "      <th>FixationIndex</th>\n",
       "      <th>FixationDuration</th>\n",
       "      <th>MappedFixationPointX</th>\n",
       "      <th>MappedFixationPointY</th>\n",
       "      <th>user</th>\n",
       "      <th>description</th>\n",
       "    </tr>\n",
       "  </thead>\n",
       "  <tbody>\n",
       "    <tr>\n",
       "      <th>0</th>\n",
       "      <td>2586</td>\n",
       "      <td>01_Antwerpen_S1.jpg</td>\n",
       "      <td>9</td>\n",
       "      <td>250</td>\n",
       "      <td>1151</td>\n",
       "      <td>458</td>\n",
       "      <td>p1</td>\n",
       "      <td>color</td>\n",
       "    </tr>\n",
       "    <tr>\n",
       "      <th>1</th>\n",
       "      <td>2836</td>\n",
       "      <td>01_Antwerpen_S1.jpg</td>\n",
       "      <td>10</td>\n",
       "      <td>150</td>\n",
       "      <td>1371</td>\n",
       "      <td>316</td>\n",
       "      <td>p1</td>\n",
       "      <td>color</td>\n",
       "    </tr>\n",
       "    <tr>\n",
       "      <th>2</th>\n",
       "      <td>2986</td>\n",
       "      <td>01_Antwerpen_S1.jpg</td>\n",
       "      <td>11</td>\n",
       "      <td>283</td>\n",
       "      <td>1342</td>\n",
       "      <td>287</td>\n",
       "      <td>p1</td>\n",
       "      <td>color</td>\n",
       "    </tr>\n",
       "  </tbody>\n",
       "</table>\n",
       "</div>"
      ],
      "text/plain": [
       "   Timestamp          StimuliName  FixationIndex  FixationDuration  \\\n",
       "0       2586  01_Antwerpen_S1.jpg              9               250   \n",
       "1       2836  01_Antwerpen_S1.jpg             10               150   \n",
       "2       2986  01_Antwerpen_S1.jpg             11               283   \n",
       "\n",
       "   MappedFixationPointX  MappedFixationPointY user description  \n",
       "0                  1151                   458   p1       color  \n",
       "1                  1371                   316   p1       color  \n",
       "2                  1342                   287   p1       color  "
      ]
     },
     "execution_count": 14,
     "metadata": {},
     "output_type": "execute_result"
    }
   ],
   "source": [
    "# data import\n",
    "import os.path\n",
    "rootPath = os.getcwd();\n",
    "fixation_data = \"all_fixation_data_cleaned_up.csv\"\n",
    "\n",
    "df = pd.read_csv(os.path.join(rootPath, fixation_data), encoding= 'unicode_escape')\n",
    "df.head(3)"
   ]
  },
  {
   "cell_type": "code",
   "execution_count": 20,
   "id": "0a836d26",
   "metadata": {},
   "outputs": [
    {
     "name": "stdout",
     "output_type": "stream",
     "text": [
      "Unique partcipant ID in dataset is \n",
      " 40\n"
     ]
    }
   ],
   "source": [
    "# 11-a\n",
    "print('Unique partcipant ID number in dataset is',\n",
    "      '\\n',\n",
    "      len(df.user.unique()))"
   ]
  },
  {
   "cell_type": "code",
   "execution_count": 21,
   "id": "6c939d31",
   "metadata": {},
   "outputs": [
    {
     "name": "stdout",
     "output_type": "stream",
     "text": [
      "Unique Stimuli number in dataset is \n",
      " 106\n"
     ]
    }
   ],
   "source": [
    "# 11-b\n",
    "print('Unique Stimuli number in dataset is',\n",
    "      '\\n',\n",
    "      len(df.StimuliName.unique()))"
   ]
  },
  {
   "cell_type": "code",
   "execution_count": 52,
   "id": "c0b0b012",
   "metadata": {},
   "outputs": [
    {
     "data": {
      "text/plain": [
       "1664787"
      ]
     },
     "execution_count": 52,
     "metadata": {},
     "output_type": "execute_result"
    }
   ],
   "source": [
    "# 11-c\n",
    "df.groupby(['StimuliName', 'user'])[\"FixationIndex\"].agg(lambda x: x.max()).sum()"
   ]
  },
  {
   "cell_type": "markdown",
   "id": "2d69fec8",
   "metadata": {},
   "source": [
    "## Exercise 12 – Patterns and Anomalies in Eye Tracking Data\n",
    "\n",
    "Imagine you have an eye tracking dataset and all information about the study design and how the study\n",
    "was conducted. How could you explore the recorded data for patterns and anomalies? (2 P.) Find good\n",
    "statistics tools or do you already know some of them, to explore the data? (2 P.) Describe your process to\n",
    "let the data speak, i.e. to make them understandable. (4 P.) \n",
    "\n",
    "Hint: You do not have to apply real analyzes\n",
    "in this exercise, we are only interested in the concrete method. Just in case you like to explore the data\n",
    "you are allowed to do that. (You can earn 2 extra points for that)."
   ]
  }
 ],
 "metadata": {
  "kernelspec": {
   "display_name": "Python 3 (ipykernel)",
   "language": "python",
   "name": "python3"
  },
  "language_info": {
   "codemirror_mode": {
    "name": "ipython",
    "version": 3
   },
   "file_extension": ".py",
   "mimetype": "text/x-python",
   "name": "python",
   "nbconvert_exporter": "python",
   "pygments_lexer": "ipython3",
   "version": "3.9.7"
  }
 },
 "nbformat": 4,
 "nbformat_minor": 5
}
