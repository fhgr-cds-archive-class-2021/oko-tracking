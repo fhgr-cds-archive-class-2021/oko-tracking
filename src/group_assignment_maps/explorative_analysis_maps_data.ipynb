{
 "cells": [
  {
   "cell_type": "markdown",
   "id": "d2b1d6ed",
   "metadata": {},
   "source": [
    "# Assignment 6 - Eye tracking data exploration"
   ]
  },
  {
   "cell_type": "code",
   "execution_count": 128,
   "id": "63f241c8",
   "metadata": {},
   "outputs": [],
   "source": [
    "# import the library\n",
    "import numpy as np\n",
    "import pandas as pd\n",
    "import urllib\n",
    "import matplotlib.pyplot as plt\n",
    "import seaborn as sns\n",
    "pd.set_option(\"display.max_rows\", 200)"
   ]
  },
  {
   "cell_type": "code",
   "execution_count": 4,
   "id": "1811e600",
   "metadata": {},
   "outputs": [
    {
     "name": "stdout",
     "output_type": "stream",
     "text": [
      "Requirement already satisfied: openpyxl in /Users/shu/opt/anaconda3/lib/python3.9/site-packages (3.0.9)\r\n",
      "Requirement already satisfied: et-xmlfile in /Users/shu/opt/anaconda3/lib/python3.9/site-packages (from openpyxl) (1.1.0)\r\n"
     ]
    }
   ],
   "source": [
    "!pip install openpyxl\n"
   ]
  },
  {
   "cell_type": "markdown",
   "id": "a8ae081e",
   "metadata": {},
   "source": [
    "## Exercise 11 – Eye Tracking Data\n",
    "\n",
    "In our Google Drive folder you can find an eye tracking dataset recorded in a real eye tracking study. \n",
    "\n",
    "The study itself got explained in the lecture (Chapter 5). The focus was on public transport maps and the\n",
    "research question which type of maps is better: colored or grayscale ones? Explore the given dataset and\n",
    "describe the following points in detail:\n",
    "(a) How many participants took part in the study? (3 P.) - 40\n",
    "(b) How many stimuli have been shown in the study and what is their difference? (3 P) - 106, difference in the city (diffciculty) and the color (colored and greyscale)\n",
    "(c) How many fixations have been made in the study in total? (3 P.) \n",
    "(d) Which general differences can you detect in the individual scanpaths? (3 P.)"
   ]
  },
  {
   "cell_type": "code",
   "execution_count": 55,
   "id": "492c676e",
   "metadata": {},
   "outputs": [
    {
     "data": {
      "text/html": [
       "<div>\n",
       "<style scoped>\n",
       "    .dataframe tbody tr th:only-of-type {\n",
       "        vertical-align: middle;\n",
       "    }\n",
       "\n",
       "    .dataframe tbody tr th {\n",
       "        vertical-align: top;\n",
       "    }\n",
       "\n",
       "    .dataframe thead th {\n",
       "        text-align: right;\n",
       "    }\n",
       "</style>\n",
       "<table border=\"1\" class=\"dataframe\">\n",
       "  <thead>\n",
       "    <tr style=\"text-align: right;\">\n",
       "      <th></th>\n",
       "      <th>Timestamp</th>\n",
       "      <th>StimuliName</th>\n",
       "      <th>FixationIndex</th>\n",
       "      <th>FixationDuration</th>\n",
       "      <th>MappedFixationPointX</th>\n",
       "      <th>MappedFixationPointY</th>\n",
       "      <th>user</th>\n",
       "      <th>description</th>\n",
       "    </tr>\n",
       "  </thead>\n",
       "  <tbody>\n",
       "    <tr>\n",
       "      <th>0</th>\n",
       "      <td>2586</td>\n",
       "      <td>01_Antwerpen_S1.jpg</td>\n",
       "      <td>9</td>\n",
       "      <td>250</td>\n",
       "      <td>1151</td>\n",
       "      <td>458</td>\n",
       "      <td>p1</td>\n",
       "      <td>color</td>\n",
       "    </tr>\n",
       "    <tr>\n",
       "      <th>1</th>\n",
       "      <td>2836</td>\n",
       "      <td>01_Antwerpen_S1.jpg</td>\n",
       "      <td>10</td>\n",
       "      <td>150</td>\n",
       "      <td>1371</td>\n",
       "      <td>316</td>\n",
       "      <td>p1</td>\n",
       "      <td>color</td>\n",
       "    </tr>\n",
       "    <tr>\n",
       "      <th>2</th>\n",
       "      <td>2986</td>\n",
       "      <td>01_Antwerpen_S1.jpg</td>\n",
       "      <td>11</td>\n",
       "      <td>283</td>\n",
       "      <td>1342</td>\n",
       "      <td>287</td>\n",
       "      <td>p1</td>\n",
       "      <td>color</td>\n",
       "    </tr>\n",
       "  </tbody>\n",
       "</table>\n",
       "</div>"
      ],
      "text/plain": [
       "   Timestamp          StimuliName  FixationIndex  FixationDuration  \\\n",
       "0       2586  01_Antwerpen_S1.jpg              9               250   \n",
       "1       2836  01_Antwerpen_S1.jpg             10               150   \n",
       "2       2986  01_Antwerpen_S1.jpg             11               283   \n",
       "\n",
       "   MappedFixationPointX  MappedFixationPointY user description  \n",
       "0                  1151                   458   p1       color  \n",
       "1                  1371                   316   p1       color  \n",
       "2                  1342                   287   p1       color  "
      ]
     },
     "execution_count": 55,
     "metadata": {},
     "output_type": "execute_result"
    }
   ],
   "source": [
    "# data import\n",
    "import os.path\n",
    "rootPath = os.getcwd();\n",
    "fixation_data = \"all_fixation_data_cleaned_up.csv\"\n",
    "\n",
    "df = pd.read_csv(os.path.join(rootPath, fixation_data), encoding= 'unicode_escape')\n",
    "df.head(3)"
   ]
  },
  {
   "cell_type": "code",
   "execution_count": 56,
   "id": "3e5fcb5b",
   "metadata": {},
   "outputs": [
    {
     "name": "stdout",
     "output_type": "stream",
     "text": [
      "Unique partcipant ID number in dataset is \n",
      " 40\n"
     ]
    }
   ],
   "source": [
    "# 11-a\n",
    "print('Unique partcipant ID number in dataset is',\n",
    "      '\\n',\n",
    "      len(df.user.unique()))"
   ]
  },
  {
   "cell_type": "code",
   "execution_count": 57,
   "id": "a2b62d64",
   "metadata": {},
   "outputs": [
    {
     "name": "stdout",
     "output_type": "stream",
     "text": [
      "Unique Stimuli number in dataset is \n",
      " 96\n"
     ]
    }
   ],
   "source": [
    "# 11-b\n",
    "print('Unique Stimuli number in dataset is',\n",
    "      '\\n',\n",
    "      len(df.StimuliName.unique()))"
   ]
  },
  {
   "cell_type": "code",
   "execution_count": 59,
   "id": "33f535f2",
   "metadata": {},
   "outputs": [
    {
     "data": {
      "text/plain": [
       "118126"
      ]
     },
     "execution_count": 59,
     "metadata": {},
     "output_type": "execute_result"
    }
   ],
   "source": [
    "# 11-c\n",
    "len(df)"
   ]
  },
  {
   "cell_type": "markdown",
   "id": "b261154c",
   "metadata": {},
   "source": [
    "## Exercise 12 – Patterns and Anomalies in Eye Tracking Data\n",
    "\n",
    "Imagine you have an eye tracking dataset and all information about the study design and how the study\n",
    "was conducted. How could you explore the recorded data for patterns and anomalies? (2 P.) Find good\n",
    "statistics tools or do you already know some of them, to explore the data? (2 P.) Describe your process to\n",
    "let the data speak, i.e. to make them understandable. (4 P.) \n",
    "\n",
    "Hint: You do not have to apply real analyzes\n",
    "in this exercise, we are only interested in the concrete method. Just in case you like to explore the data\n",
    "you are allowed to do that. (You can earn 2 extra points for that)."
   ]
  },
  {
   "cell_type": "markdown",
   "id": "3113aacb",
   "metadata": {},
   "source": [
    "### Exercise 12 – EDA"
   ]
  },
  {
   "cell_type": "code",
   "execution_count": 60,
   "id": "e98b000a",
   "metadata": {},
   "outputs": [],
   "source": [
    "# 12.1 Getting fixation count and duration in Color VS Grey"
   ]
  },
  {
   "cell_type": "code",
   "execution_count": 66,
   "id": "bb48dc9f",
   "metadata": {},
   "outputs": [],
   "source": [
    "df_Antwerpen = df[df['StimuliName'].str.contains(\"Antwerpen\")]"
   ]
  },
  {
   "cell_type": "code",
   "execution_count": 80,
   "id": "45097e9e",
   "metadata": {},
   "outputs": [],
   "source": [
    "df_Antwerpen_color =  df_Antwerpen[df_Antwerpen['description']==\"color\"]\n",
    "df_Antwerpen_gray =  df_Antwerpen[df_Antwerpen['description']==\"gray\"]\n"
   ]
  },
  {
   "cell_type": "code",
   "execution_count": 108,
   "id": "ea4038ac",
   "metadata": {},
   "outputs": [
    {
     "data": {
      "text/html": [
       "<div>\n",
       "<style scoped>\n",
       "    .dataframe tbody tr th:only-of-type {\n",
       "        vertical-align: middle;\n",
       "    }\n",
       "\n",
       "    .dataframe tbody tr th {\n",
       "        vertical-align: top;\n",
       "    }\n",
       "\n",
       "    .dataframe thead th {\n",
       "        text-align: right;\n",
       "    }\n",
       "</style>\n",
       "<table border=\"1\" class=\"dataframe\">\n",
       "  <thead>\n",
       "    <tr style=\"text-align: right;\">\n",
       "      <th></th>\n",
       "      <th>User</th>\n",
       "      <th>CountGray</th>\n",
       "    </tr>\n",
       "  </thead>\n",
       "  <tbody>\n",
       "    <tr>\n",
       "      <th>0</th>\n",
       "      <td>p1</td>\n",
       "      <td>33</td>\n",
       "    </tr>\n",
       "    <tr>\n",
       "      <th>1</th>\n",
       "      <td>p10</td>\n",
       "      <td>45</td>\n",
       "    </tr>\n",
       "    <tr>\n",
       "      <th>2</th>\n",
       "      <td>p11</td>\n",
       "      <td>19</td>\n",
       "    </tr>\n",
       "    <tr>\n",
       "      <th>3</th>\n",
       "      <td>p12</td>\n",
       "      <td>23</td>\n",
       "    </tr>\n",
       "    <tr>\n",
       "      <th>4</th>\n",
       "      <td>p13</td>\n",
       "      <td>26</td>\n",
       "    </tr>\n",
       "  </tbody>\n",
       "</table>\n",
       "</div>"
      ],
      "text/plain": [
       "  User  CountGray\n",
       "0   p1         33\n",
       "1  p10         45\n",
       "2  p11         19\n",
       "3  p12         23\n",
       "4  p13         26"
      ]
     },
     "execution_count": 108,
     "metadata": {},
     "output_type": "execute_result"
    }
   ],
   "source": [
    "fixation_count_gray = df_Antwerpen_gray.groupby(\"user\")[\"Timestamp\"].count()\n",
    "fixation_count_gray = pd.DataFrame({'User':fixation_count_gray.index, 'CountGray':fixation_count_gray.values})\n"
   ]
  },
  {
   "cell_type": "code",
   "execution_count": 107,
   "id": "bfdb6dc9",
   "metadata": {},
   "outputs": [
    {
     "data": {
      "text/html": [
       "<div>\n",
       "<style scoped>\n",
       "    .dataframe tbody tr th:only-of-type {\n",
       "        vertical-align: middle;\n",
       "    }\n",
       "\n",
       "    .dataframe tbody tr th {\n",
       "        vertical-align: top;\n",
       "    }\n",
       "\n",
       "    .dataframe thead th {\n",
       "        text-align: right;\n",
       "    }\n",
       "</style>\n",
       "<table border=\"1\" class=\"dataframe\">\n",
       "  <thead>\n",
       "    <tr style=\"text-align: right;\">\n",
       "      <th></th>\n",
       "      <th>User</th>\n",
       "      <th>CountColor</th>\n",
       "    </tr>\n",
       "  </thead>\n",
       "  <tbody>\n",
       "    <tr>\n",
       "      <th>0</th>\n",
       "      <td>p1</td>\n",
       "      <td>14</td>\n",
       "    </tr>\n",
       "    <tr>\n",
       "      <th>1</th>\n",
       "      <td>p10</td>\n",
       "      <td>38</td>\n",
       "    </tr>\n",
       "    <tr>\n",
       "      <th>2</th>\n",
       "      <td>p11</td>\n",
       "      <td>114</td>\n",
       "    </tr>\n",
       "    <tr>\n",
       "      <th>3</th>\n",
       "      <td>p12</td>\n",
       "      <td>20</td>\n",
       "    </tr>\n",
       "    <tr>\n",
       "      <th>4</th>\n",
       "      <td>p13</td>\n",
       "      <td>23</td>\n",
       "    </tr>\n",
       "  </tbody>\n",
       "</table>\n",
       "</div>"
      ],
      "text/plain": [
       "  User  CountColor\n",
       "0   p1          14\n",
       "1  p10          38\n",
       "2  p11         114\n",
       "3  p12          20\n",
       "4  p13          23"
      ]
     },
     "execution_count": 107,
     "metadata": {},
     "output_type": "execute_result"
    }
   ],
   "source": [
    "fixation_count_color= df_Antwerpen_color.groupby(\"user\")[\"Timestamp\"].count()\n",
    "fixation_count_color = pd.DataFrame({'User':fixation_count_color.index, 'CountColor':fixation_count_color.values})\n",
    "fixation_count_color.head(5)"
   ]
  },
  {
   "cell_type": "code",
   "execution_count": 114,
   "id": "2a38bb93",
   "metadata": {},
   "outputs": [
    {
     "data": {
      "text/html": [
       "<div>\n",
       "<style scoped>\n",
       "    .dataframe tbody tr th:only-of-type {\n",
       "        vertical-align: middle;\n",
       "    }\n",
       "\n",
       "    .dataframe tbody tr th {\n",
       "        vertical-align: top;\n",
       "    }\n",
       "\n",
       "    .dataframe thead th {\n",
       "        text-align: right;\n",
       "    }\n",
       "</style>\n",
       "<table border=\"1\" class=\"dataframe\">\n",
       "  <thead>\n",
       "    <tr style=\"text-align: right;\">\n",
       "      <th></th>\n",
       "      <th>User</th>\n",
       "      <th>durationGray</th>\n",
       "    </tr>\n",
       "  </thead>\n",
       "  <tbody>\n",
       "    <tr>\n",
       "      <th>0</th>\n",
       "      <td>p1</td>\n",
       "      <td>320.303030</td>\n",
       "    </tr>\n",
       "    <tr>\n",
       "      <th>1</th>\n",
       "      <td>p10</td>\n",
       "      <td>371.200000</td>\n",
       "    </tr>\n",
       "    <tr>\n",
       "      <th>2</th>\n",
       "      <td>p11</td>\n",
       "      <td>369.000000</td>\n",
       "    </tr>\n",
       "    <tr>\n",
       "      <th>3</th>\n",
       "      <td>p12</td>\n",
       "      <td>314.043478</td>\n",
       "    </tr>\n",
       "    <tr>\n",
       "      <th>4</th>\n",
       "      <td>p13</td>\n",
       "      <td>267.153846</td>\n",
       "    </tr>\n",
       "  </tbody>\n",
       "</table>\n",
       "</div>"
      ],
      "text/plain": [
       "  User  durationGray\n",
       "0   p1    320.303030\n",
       "1  p10    371.200000\n",
       "2  p11    369.000000\n",
       "3  p12    314.043478\n",
       "4  p13    267.153846"
      ]
     },
     "execution_count": 114,
     "metadata": {},
     "output_type": "execute_result"
    }
   ],
   "source": [
    "fixation_duration_gray = df_Antwerpen_gray.groupby(\"user\")[\"FixationDuration\"].mean()\n",
    "fixation_duration_gray = pd.DataFrame({'User':fixation_duration_gray.index, 'durationGray':fixation_duration_gray.values})\n",
    "fixation_duration_gray.head(5)"
   ]
  },
  {
   "cell_type": "code",
   "execution_count": 115,
   "id": "c0ba2b4b",
   "metadata": {},
   "outputs": [
    {
     "data": {
      "text/html": [
       "<div>\n",
       "<style scoped>\n",
       "    .dataframe tbody tr th:only-of-type {\n",
       "        vertical-align: middle;\n",
       "    }\n",
       "\n",
       "    .dataframe tbody tr th {\n",
       "        vertical-align: top;\n",
       "    }\n",
       "\n",
       "    .dataframe thead th {\n",
       "        text-align: right;\n",
       "    }\n",
       "</style>\n",
       "<table border=\"1\" class=\"dataframe\">\n",
       "  <thead>\n",
       "    <tr style=\"text-align: right;\">\n",
       "      <th></th>\n",
       "      <th>User</th>\n",
       "      <th>durationColor</th>\n",
       "    </tr>\n",
       "  </thead>\n",
       "  <tbody>\n",
       "    <tr>\n",
       "      <th>0</th>\n",
       "      <td>p1</td>\n",
       "      <td>292.642857</td>\n",
       "    </tr>\n",
       "    <tr>\n",
       "      <th>1</th>\n",
       "      <td>p10</td>\n",
       "      <td>285.710526</td>\n",
       "    </tr>\n",
       "    <tr>\n",
       "      <th>2</th>\n",
       "      <td>p11</td>\n",
       "      <td>325.271930</td>\n",
       "    </tr>\n",
       "    <tr>\n",
       "      <th>3</th>\n",
       "      <td>p12</td>\n",
       "      <td>278.900000</td>\n",
       "    </tr>\n",
       "    <tr>\n",
       "      <th>4</th>\n",
       "      <td>p13</td>\n",
       "      <td>273.652174</td>\n",
       "    </tr>\n",
       "  </tbody>\n",
       "</table>\n",
       "</div>"
      ],
      "text/plain": [
       "  User  durationColor\n",
       "0   p1     292.642857\n",
       "1  p10     285.710526\n",
       "2  p11     325.271930\n",
       "3  p12     278.900000\n",
       "4  p13     273.652174"
      ]
     },
     "execution_count": 115,
     "metadata": {},
     "output_type": "execute_result"
    }
   ],
   "source": [
    "fixation_duration_color = df_Antwerpen_color.groupby(\"user\")[\"FixationDuration\"].mean()\n",
    "fixation_duration_color = pd.DataFrame({'User':fixation_duration_color.index, 'durationColor':fixation_duration_color.values})\n",
    "fixation_duration_color.head(5)"
   ]
  },
  {
   "cell_type": "code",
   "execution_count": 117,
   "id": "3b647bbe",
   "metadata": {},
   "outputs": [
    {
     "data": {
      "text/html": [
       "<div>\n",
       "<style scoped>\n",
       "    .dataframe tbody tr th:only-of-type {\n",
       "        vertical-align: middle;\n",
       "    }\n",
       "\n",
       "    .dataframe tbody tr th {\n",
       "        vertical-align: top;\n",
       "    }\n",
       "\n",
       "    .dataframe thead th {\n",
       "        text-align: right;\n",
       "    }\n",
       "</style>\n",
       "<table border=\"1\" class=\"dataframe\">\n",
       "  <thead>\n",
       "    <tr style=\"text-align: right;\">\n",
       "      <th></th>\n",
       "      <th>User</th>\n",
       "      <th>CountGray</th>\n",
       "      <th>CountColor</th>\n",
       "    </tr>\n",
       "  </thead>\n",
       "  <tbody>\n",
       "    <tr>\n",
       "      <th>0</th>\n",
       "      <td>p1</td>\n",
       "      <td>33</td>\n",
       "      <td>14</td>\n",
       "    </tr>\n",
       "    <tr>\n",
       "      <th>1</th>\n",
       "      <td>p10</td>\n",
       "      <td>45</td>\n",
       "      <td>38</td>\n",
       "    </tr>\n",
       "    <tr>\n",
       "      <th>2</th>\n",
       "      <td>p11</td>\n",
       "      <td>19</td>\n",
       "      <td>114</td>\n",
       "    </tr>\n",
       "    <tr>\n",
       "      <th>3</th>\n",
       "      <td>p12</td>\n",
       "      <td>23</td>\n",
       "      <td>20</td>\n",
       "    </tr>\n",
       "    <tr>\n",
       "      <th>4</th>\n",
       "      <td>p13</td>\n",
       "      <td>26</td>\n",
       "      <td>23</td>\n",
       "    </tr>\n",
       "  </tbody>\n",
       "</table>\n",
       "</div>"
      ],
      "text/plain": [
       "  User  CountGray  CountColor\n",
       "0   p1         33          14\n",
       "1  p10         45          38\n",
       "2  p11         19         114\n",
       "3  p12         23          20\n",
       "4  p13         26          23"
      ]
     },
     "execution_count": 117,
     "metadata": {},
     "output_type": "execute_result"
    }
   ],
   "source": [
    "pd_fixation_merge = (pd.merge(fixation_count_gray, fixation_count_color, on='User'))\n",
    "pd_fixation_merge.head(5)"
   ]
  },
  {
   "cell_type": "code",
   "execution_count": 119,
   "id": "52441143",
   "metadata": {},
   "outputs": [],
   "source": [
    "pd_fixation_merge.to_excel(os.path.join(rootPath, 'pd_fixation_merge.xlsx'), index=False)\n"
   ]
  },
  {
   "cell_type": "code",
   "execution_count": 120,
   "id": "82d26aec",
   "metadata": {},
   "outputs": [],
   "source": [
    "pd_duration_merge.to_excel(os.path.join(rootPath, 'pd_duration_merge.xlsx'), index=False)\n"
   ]
  },
  {
   "cell_type": "code",
   "execution_count": 118,
   "id": "f2786248",
   "metadata": {},
   "outputs": [
    {
     "data": {
      "text/html": [
       "<div>\n",
       "<style scoped>\n",
       "    .dataframe tbody tr th:only-of-type {\n",
       "        vertical-align: middle;\n",
       "    }\n",
       "\n",
       "    .dataframe tbody tr th {\n",
       "        vertical-align: top;\n",
       "    }\n",
       "\n",
       "    .dataframe thead th {\n",
       "        text-align: right;\n",
       "    }\n",
       "</style>\n",
       "<table border=\"1\" class=\"dataframe\">\n",
       "  <thead>\n",
       "    <tr style=\"text-align: right;\">\n",
       "      <th></th>\n",
       "      <th>User</th>\n",
       "      <th>durationGray</th>\n",
       "      <th>durationColor</th>\n",
       "    </tr>\n",
       "  </thead>\n",
       "  <tbody>\n",
       "    <tr>\n",
       "      <th>0</th>\n",
       "      <td>p1</td>\n",
       "      <td>320.303030</td>\n",
       "      <td>292.642857</td>\n",
       "    </tr>\n",
       "    <tr>\n",
       "      <th>1</th>\n",
       "      <td>p10</td>\n",
       "      <td>371.200000</td>\n",
       "      <td>285.710526</td>\n",
       "    </tr>\n",
       "    <tr>\n",
       "      <th>2</th>\n",
       "      <td>p11</td>\n",
       "      <td>369.000000</td>\n",
       "      <td>325.271930</td>\n",
       "    </tr>\n",
       "    <tr>\n",
       "      <th>3</th>\n",
       "      <td>p12</td>\n",
       "      <td>314.043478</td>\n",
       "      <td>278.900000</td>\n",
       "    </tr>\n",
       "    <tr>\n",
       "      <th>4</th>\n",
       "      <td>p13</td>\n",
       "      <td>267.153846</td>\n",
       "      <td>273.652174</td>\n",
       "    </tr>\n",
       "  </tbody>\n",
       "</table>\n",
       "</div>"
      ],
      "text/plain": [
       "  User  durationGray  durationColor\n",
       "0   p1    320.303030     292.642857\n",
       "1  p10    371.200000     285.710526\n",
       "2  p11    369.000000     325.271930\n",
       "3  p12    314.043478     278.900000\n",
       "4  p13    267.153846     273.652174"
      ]
     },
     "execution_count": 118,
     "metadata": {},
     "output_type": "execute_result"
    }
   ],
   "source": [
    "pd_duration_merge = (pd.merge(fixation_duration_gray, fixation_duration_color, on='User'))\n",
    "pd_duration_merge.head(5)"
   ]
  },
  {
   "cell_type": "code",
   "execution_count": 125,
   "id": "f3dd2839",
   "metadata": {},
   "outputs": [
    {
     "data": {
      "text/html": [
       "<div>\n",
       "<style scoped>\n",
       "    .dataframe tbody tr th:only-of-type {\n",
       "        vertical-align: middle;\n",
       "    }\n",
       "\n",
       "    .dataframe tbody tr th {\n",
       "        vertical-align: top;\n",
       "    }\n",
       "\n",
       "    .dataframe thead th {\n",
       "        text-align: right;\n",
       "    }\n",
       "</style>\n",
       "<table border=\"1\" class=\"dataframe\">\n",
       "  <thead>\n",
       "    <tr style=\"text-align: right;\">\n",
       "      <th></th>\n",
       "      <th>User</th>\n",
       "      <th>Count</th>\n",
       "      <th>ColorMode</th>\n",
       "      <th>DurationMean</th>\n",
       "    </tr>\n",
       "  </thead>\n",
       "  <tbody>\n",
       "    <tr>\n",
       "      <th>0</th>\n",
       "      <td>p1</td>\n",
       "      <td>33</td>\n",
       "      <td>Gray</td>\n",
       "      <td>320.303030</td>\n",
       "    </tr>\n",
       "    <tr>\n",
       "      <th>1</th>\n",
       "      <td>p10</td>\n",
       "      <td>45</td>\n",
       "      <td>Gray</td>\n",
       "      <td>371.200000</td>\n",
       "    </tr>\n",
       "    <tr>\n",
       "      <th>2</th>\n",
       "      <td>p11</td>\n",
       "      <td>19</td>\n",
       "      <td>Gray</td>\n",
       "      <td>369.000000</td>\n",
       "    </tr>\n",
       "    <tr>\n",
       "      <th>3</th>\n",
       "      <td>p12</td>\n",
       "      <td>23</td>\n",
       "      <td>Gray</td>\n",
       "      <td>314.043478</td>\n",
       "    </tr>\n",
       "    <tr>\n",
       "      <th>4</th>\n",
       "      <td>p13</td>\n",
       "      <td>26</td>\n",
       "      <td>Gray</td>\n",
       "      <td>267.153846</td>\n",
       "    </tr>\n",
       "  </tbody>\n",
       "</table>\n",
       "</div>"
      ],
      "text/plain": [
       "  User  Count ColorMode  DurationMean\n",
       "0   p1     33      Gray    320.303030\n",
       "1  p10     45      Gray    371.200000\n",
       "2  p11     19      Gray    369.000000\n",
       "3  p12     23      Gray    314.043478\n",
       "4  p13     26      Gray    267.153846"
      ]
     },
     "execution_count": 125,
     "metadata": {},
     "output_type": "execute_result"
    }
   ],
   "source": [
    "df_compare = pd.read_excel(os.path.join(rootPath, 'ColorModeComparasion.xlsx'), sheet_name='Sheet1')\n",
    "df_compare.head(5)"
   ]
  },
  {
   "cell_type": "code",
   "execution_count": 130,
   "id": "eb86b494",
   "metadata": {},
   "outputs": [],
   "source": [
    "# import the library\n",
    "import numpy as np\n",
    "import pandas as pd\n",
    "import urllib\n",
    "from statsmodels.formula.api import ols\n",
    "from statsmodels.stats.anova import anova_lm\n",
    "import matplotlib\n",
    "import matplotlib.pyplot as plt\n",
    "import matplotlib as mpl\n",
    "import seaborn as sns\n",
    "sns.set(style=\"ticks\")"
   ]
  },
  {
   "cell_type": "code",
   "execution_count": 131,
   "id": "5abc7892",
   "metadata": {},
   "outputs": [
    {
     "data": {
      "image/png": "[encoded data removed]",
      "text/plain": [
       "<Figure size 1296x576 with 2 Axes>"
      ]
     },
     "metadata": {},
     "output_type": "display_data"
    }
   ],
   "source": [
    "import seaborn as sns\n",
    "import matplotlib.pyplot as plt\n",
    "fig, axs = plt.subplots(ncols=2,figsize=(18,8))\n",
    "matplotlib.rcParams[\"figure.dpi\"] = 220\n",
    "\n",
    "sns.boxplot(data=df_compare, x=\"ColorMode\", y=\"Count\", ax=axs[0])\n",
    "sns.swarmplot(data=df_compare, x=\"ColorMode\", y=\"Count\", ax=axs[0], color=\".3\")\n",
    "\n",
    "sns.boxplot(data=df_compare, x=\"ColorMode\", y=\"DurationMean\", ax=axs[1])\n",
    "sns.swarmplot(data=df_compare, x=\"ColorMode\", y=\"DurationMean\", ax=axs[1], color=\".3\")\n",
    "\n",
    "plt.show()"
   ]
  },
  {
   "cell_type": "markdown",
   "id": "552acbc8",
   "metadata": {},
   "source": [
    "## Statis Check "
   ]
  },
  {
   "cell_type": "code",
   "execution_count": 133,
   "id": "bacad2e6",
   "metadata": {},
   "outputs": [],
   "source": [
    "import scipy.stats as stats\n"
   ]
  },
  {
   "cell_type": "code",
   "execution_count": 140,
   "id": "2b4c3623",
   "metadata": {},
   "outputs": [
    {
     "name": "stdout",
     "output_type": "stream",
     "text": [
      "Fixation \n",
      "   ColorMode    Mean      SD  Min  Max\n",
      "0     Color  30.050  16.910   14  114\n",
      "1      Gray  38.225  22.244   19  110\n"
     ]
    }
   ],
   "source": [
    "grouped_multiple = df_compare.groupby('ColorMode').agg({'Count': ['mean','std', 'min', 'max']})\n",
    "grouped_multiple.columns = ['Mean','SD', 'Min', 'Max']\n",
    "grouped_multiple = grouped_multiple.reset_index()\n",
    "print('Fixation Count', '\\n',grouped_multiple.round(3))"
   ]
  },
  {
   "cell_type": "code",
   "execution_count": 142,
   "id": "117c7e61",
   "metadata": {},
   "outputs": [
    {
     "name": "stdout",
     "output_type": "stream",
     "text": [
      "DurationMean \n",
      "   ColorMode     Mean      SD      Min      Max\n",
      "0     Color  292.676  51.685  207.765  433.027\n",
      "1      Gray  305.131  52.138  226.053  409.000\n"
     ]
    }
   ],
   "source": [
    "grouped_multiple = df_compare.groupby('ColorMode').agg({'DurationMean': ['mean','std', 'min', 'max']})\n",
    "grouped_multiple.columns = ['Mean','SD', 'Min', 'Max']\n",
    "grouped_multiple = grouped_multiple.reset_index()\n",
    "print('DurationMean', '\\n',grouped_multiple.round(3))"
   ]
  },
  {
   "cell_type": "code",
   "execution_count": 134,
   "id": "778c153c",
   "metadata": {},
   "outputs": [
    {
     "data": {
      "text/plain": [
       "Ttest_indResult(statistic=1.8503949514655584, pvalue=0.06804317872235398)"
      ]
     },
     "execution_count": 134,
     "metadata": {},
     "output_type": "execute_result"
    }
   ],
   "source": [
    "stats.ttest_ind(df_compare['Count'][df_compare['ColorMode'] == 'Gray'],\n",
    "                df_compare['Count'][df_compare['ColorMode'] == 'Color'])\n"
   ]
  },
  {
   "cell_type": "code",
   "execution_count": 135,
   "id": "26a49999",
   "metadata": {},
   "outputs": [
    {
     "data": {
      "text/plain": [
       "Ttest_indResult(statistic=1.073029340740371, pvalue=0.28656651294571794)"
      ]
     },
     "execution_count": 135,
     "metadata": {},
     "output_type": "execute_result"
    }
   ],
   "source": [
    "stats.ttest_ind(df_compare['DurationMean'][df_compare['ColorMode'] == 'Gray'],\n",
    "                df_compare['DurationMean'][df_compare['ColorMode'] == 'Color'])\n"
   ]
  }
 ],
 "metadata": {
  "kernelspec": {
   "display_name": "Python 3 (ipykernel)",
   "language": "python",
   "name": "python3"
  },
  "language_info": {
   "codemirror_mode": {
    "name": "ipython",
    "version": 3
   },
   "file_extension": ".py",
   "mimetype": "text/x-python",
   "name": "python",
   "nbconvert_exporter": "python",
   "pygments_lexer": "ipython3",
   "version": "3.9.7"
  }
 },
 "nbformat": 4,
 "nbformat_minor": 5
}
