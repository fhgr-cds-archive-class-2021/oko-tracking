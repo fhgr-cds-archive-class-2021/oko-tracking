{
 "cells": [
  {
   "cell_type": "code",
   "execution_count": 16,
   "metadata": {},
   "outputs": [],
   "source": [
    "import pandas as pd\n",
    "import numpy as np\n",
    "import matplotlib.pyplot as plt"
   ]
  },
  {
   "cell_type": "code",
   "execution_count": 17,
   "metadata": {},
   "outputs": [],
   "source": [
    "df = pd.read_csv('data/all_fixation_data_cleaned_up.csv', sep=',')"
   ]
  },
  {
   "cell_type": "code",
   "execution_count": 18,
   "metadata": {},
   "outputs": [
    {
     "name": "stdout",
     "output_type": "stream",
     "text": [
      "<class 'pandas.core.frame.DataFrame'>\n",
      "RangeIndex: 118126 entries, 0 to 118125\n",
      "Data columns (total 8 columns):\n",
      " #   Column                Non-Null Count   Dtype \n",
      "---  ------                --------------   ----- \n",
      " 0   Timestamp             118126 non-null  int64 \n",
      " 1   StimuliName           118126 non-null  object\n",
      " 2   FixationIndex         118126 non-null  int64 \n",
      " 3   FixationDuration      118126 non-null  int64 \n",
      " 4   MappedFixationPointX  118126 non-null  int64 \n",
      " 5   MappedFixationPointY  118126 non-null  int64 \n",
      " 6   user                  118126 non-null  object\n",
      " 7   description           118126 non-null  object\n",
      "dtypes: int64(5), object(3)\n",
      "memory usage: 7.2+ MB\n"
     ]
    }
   ],
   "source": [
    "complexities = {\n",
    "    \"Venedig\": 71, \n",
    "    \"Göteborg\": 72, \n",
    "    \"Hong_Kong\": 94, \n",
    "    \"Ljubljana\": 97, \n",
    "    \"Antwerpen\": 100, \n",
    "    \"Krakau\": 101, \n",
    "    \"Frankfurt\": 113, \n",
    "    \"Hamburg\": 121,\n",
    "    \"Bordeaux\": 123, \n",
    "    \"Warschau\": 124, \n",
    "    \"Düsseldorf\": 128, \n",
    "    \"Pisa\": 129, \n",
    "    \"Bologna\": 131, \n",
    "    \"Riga\": 132, \n",
    "    \"Köln\": 134, \n",
    "    \"Moskau\": 150,\n",
    "    \"Zürich\": 158, \n",
    "    \"Barcelona\": 168,\n",
    "    \"Brüssel\": 179, \n",
    "    \"Berlin\": 208, \n",
    "    \"Tokyo\": 211, \n",
    "    \"Budapest\": 223, \n",
    "    \"Paris\": 308, \n",
    "    \"New_York\": 314\n",
    "}"
   ]
  },
  {
   "cell_type": "code",
   "execution_count": 24,
   "metadata": {},
   "outputs": [],
   "source": [
    "g = df.groupby(['StimuliName','user'])['FixationDuration'].sum()\n",
    "j = df.groupby(['StimuliName','user']).size().to_frame('count')\n",
    "merged_df = pd.merge(g, j, left_index=True, right_index=True).reset_index()\n",
    "# convert miliseconds to seconds on FixationDuration\n",
    "# merged_df['FixationDuration'] = merged_df['FixationDuration'] / 1000"
   ]
  },
  {
   "cell_type": "code",
   "execution_count": 27,
   "metadata": {},
   "outputs": [],
   "source": [
    "merged_df.to_csv(\"metro_grouped_stimuli_user.csv\", sep=',', index=False)"
   ]
  }
 ],
 "metadata": {
  "kernelspec": {
   "display_name": "Python 3 (ipykernel)",
   "language": "python",
   "name": "python3"
  },
  "language_info": {
   "codemirror_mode": {
    "name": "ipython",
    "version": 3
   },
   "file_extension": ".py",
   "mimetype": "text/x-python",
   "name": "python",
   "nbconvert_exporter": "python",
   "pygments_lexer": "ipython3",
   "version": "3.9.7"
  },
  "vscode": {
   "interpreter": {
    "hash": "31f2aee4e71d21fbe5cf8b01ff0e069b9275f58929596ceb00d14d90e3e16cd6"
   }
  }
 },
 "nbformat": 4,
 "nbformat_minor": 2
}
